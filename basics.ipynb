{
  "nbformat": 4,
  "nbformat_minor": 0,
  "metadata": {
    "colab": {
      "provenance": []
    },
    "kernelspec": {
      "name": "python3",
      "display_name": "Python 3"
    },
    "language_info": {
      "name": "python"
    }
  },
  "cells": [
    {
      "cell_type": "code",
      "execution_count": null,
      "metadata": {
        "id": "FXuOI8dmwIpG"
      },
      "outputs": [],
      "source": []
    },
    {
      "cell_type": "markdown",
      "source": [
        "#PYTHON BASICS\n"
      ],
      "metadata": {
        "id": "d6PT5CrSwNX3"
      }
    },
    {
      "cell_type": "markdown",
      "source": [],
      "metadata": {
        "id": "yE8vSivowV_i"
      }
    },
    {
      "cell_type": "markdown",
      "source": [
        "Assignment questions\n"
      ],
      "metadata": {
        "id": "L3yKMofawX92"
      }
    },
    {
      "cell_type": "markdown",
      "source": [
        "1. What is Python, and why is it popular\n",
        "    _-:Python is a programming language that is popular because it is easy to learn, versatile, and has many applications. It is used in web development, data science, and machine learning.\n",
        "    it is cost effective,Large community,Extensive libraries.\n",
        "\n",
        "\n",
        "\n",
        "2.  What is an interpreter in Python\n",
        "    -; A Python interpreter is a program that translates Python code into machine code and executes it. It allows programmers to test and run code line by line.\n",
        "\n",
        "\n",
        "\n",
        "3.   What are pre-defined keywords in Python\n",
        "      -;Predefined keywords in Python are words that have a specific meaning and are reserved for use in Python programs. They are part of the Python syntax and cannot be changed.\n",
        "      eg-; del,assert,lambda,none,elif,not\n",
        "\n",
        "\n",
        "  4.    Can keywords be used as variable names\n",
        "         -;No, keywords cannot be used as variable names because they are reserved words that define the structure and syntax of a programming language.\n",
        "\n",
        "\n",
        "\n",
        "  5.     What is mutability in Python\n",
        "          -;In Python, mutability is the ability of an object to change after it has been created. Mutable objects can be modified in place, meaning that the original object is changed, not a new object.\n",
        "          lists, dictionary\n",
        "          Examples of immutable objects Numbers, Strings, Booleans, and Tuples.\n",
        "\n",
        "          Benefits of immutability\n",
        "            Immutability simplifies debugging by eliminating side effects caused by shared data.\n",
        "             Immutable objects are inherently thread-safe, as their state cannot change unexpectedly.\n",
        "\n",
        "\n",
        "  6.          Why are lists mutable, but tuples are immutable\n",
        "                -; Suppose you write a method that depends on a particular sequence of objects remaining the same throughout the lifetime of the code. If you store these objects in a list, there is a chance that some other method using the list will accidentally alter it and thus break your method. Thus, in a way, a tuple offers a guarantee that a particular collection of objects will remain fixed.\n",
        "\n",
        "\n",
        "\n",
        "\n",
        "\n",
        "7.           What is the difference between “==” and “is” operators in Python\n",
        "                -;==\n",
        "                  The equality operator compares the values of two objects. It's used to determine if two objects have the same content or data. For example, if you compare two cats with the == operator, the result would be \"both cats are equal\".\n",
        "                   is  \n",
        "                   The identity operator compares whether two variables point to the same object in memory. It's used to determine if two references are identical. For example, if you compare two cats with the is operator, the result would be \"these are two different cats\".            \n",
        "\n",
        "\n",
        "\n",
        "   8.           What are logical operators in Python\n",
        "                   -;Logical operators in Python are keywords that evaluate conditions and produce Boolean values. They are used in conditional statements to make decisions based on specific conditions.\n",
        "                   and,or,not\n",
        "\n",
        "    9.            What is type casting Python\n",
        "                   -;Type casting, also known as type conversion, is the process of changing a variable's data type to another data type in Python. It's a useful feature for making Python code more versatile and ensuring compatibility between different data types.\n",
        "                    Types of type casting\n",
        "                    Implicit: Python automatically converts one data type to another without the programmer's instruction. This usually happens when operating on mixed data types.\n",
        "                    Explicit: The programmer explicitly converts one data type to another.\n",
        "                     Examples of type casting\n",
        "                     Converting an integer to a float\n",
        "                     Converting a string to an integer\n",
        "                      Converting a character to an integer\n",
        "                     Converting an integer to a hexadecimal string\n",
        "                     Converting an integer to an octal string\n",
        "                     Functions used for type casting\n",
        "                      int(), float(), str(), ord(), hex(), and oct().  \n",
        "\n",
        "\n",
        "\n",
        "      10.            What is the difference between implicit and explicit\n",
        "                       typecasting\n",
        "                       -; Implicit type casting is automatic, while explicit type casting is manual. Implicit type casting is used when there's no risk of data loss, while explicit type casting is used when there's a chance of data loss.\n",
        "\n",
        "\n",
        "\n",
        "       11.            What is the purpose of conditional statements in     \n",
        "                       Python\n",
        "                       -;  Conditional statements in Python control the flow of a program by executing code based on certain conditions. They can make code more efficient and easier to read.\n",
        "                         How they work\n",
        "\n",
        "                            If statement: Evaluates a condition and executes a block of code if the condition is true\n",
        "                              Else statement: Executes a block of code if the condition is false\n",
        "                               Elif statement: Checks for multiple conditions\n",
        "\n",
        "                           Why they are useful\n",
        "                          Conditional statements can help you avoid writing long and complicated blocks of code\n",
        "                          They can help you develop programs that can satisfy business conditions\n",
        "\n",
        "\n",
        " 12.                How does the elif statement work\n",
        "                      The “elif” keyword in Python, stands for “else if”. It can be used in conditional statements to check for multiple conditions. For example, if the first condition is false, it moves on to the next “elif” statement to check if that condition is true.\n",
        "\n",
        "\n",
        "\n",
        "  13.              What is the difference between\n",
        "                    for and while\n",
        "                    -;Both for loop and while loop is used to execute the statements repeatedly while the program runs. The major difference between for loop and while loop is that for loop is used when the number of iterations is known, whereas execution is done in a while loop until the statement in the program is proved wrong.\n",
        "\n",
        "\n",
        "\n",
        "    14.             Describe a scenario where a while loop is more suitable  \n",
        "                    than a for loop          \n",
        "                    -; a for loop is usually better when you want a piece of code to run a certain number of times, and a while loop is better when the condition for the code to keep running is more general, such as having a boolean flag that is only set to true when a certain condition is met in the code block.     \n",
        "                    Use a for loop when you know the loop should execute n times. Use a while loop for reading a file into a variable. Use a while loop when asking for user input. Use a while loop when the increment value is nonstandard       \n",
        "\n",
        "\n",
        "\n",
        "\n",
        "\n",
        "\n",
        "\n",
        "     #     PRACTICAL QUESTION\n",
        "\n",
        "\n",
        "\n",
        "\n",
        "     1.        Write a Python pro\n",
        "                -gram to print \"HELLO,WORLD!\"      \n",
        "                                                         "
      ],
      "metadata": {
        "id": "JnZ24Fb3w7TS"
      }
    },
    {
      "cell_type": "code",
      "source": [
        "print(\"Hello world!\")\n"
      ],
      "metadata": {
        "colab": {
          "base_uri": "https://localhost:8080/"
        },
        "id": "uAoFZ4Z5BLp_",
        "outputId": "c493f1c4-69a3-4445-c3f5-3bbbdb12da65"
      },
      "execution_count": null,
      "outputs": [
        {
          "output_type": "stream",
          "name": "stdout",
          "text": [
            "Hello world!\n"
          ]
        }
      ]
    },
    {
      "cell_type": "markdown",
      "source": [],
      "metadata": {
        "id": "OPLIMdISBhtW"
      }
    },
    {
      "cell_type": "markdown",
      "source": [
        "2.     Write a Python program that displays your name and age"
      ],
      "metadata": {
        "id": "uaOjF-IGBhIV"
      }
    },
    {
      "cell_type": "code",
      "source": [
        "age = input(\"Enter age: \")\n",
        "name = input(\"Enter name: \")\n",
        "print(\"Hi, my name is \" + name + \", and I am \" + age + \" years old.\")\n"
      ],
      "metadata": {
        "colab": {
          "base_uri": "https://localhost:8080/"
        },
        "id": "kHWhSVL5CK7u",
        "outputId": "3f9b2d58-254e-4bae-d503-100ac0959cd5"
      },
      "execution_count": null,
      "outputs": [
        {
          "output_type": "stream",
          "name": "stdout",
          "text": [
            "Enter age: 18\n",
            "Enter name: mnnb\n",
            "Hi, my name is mnnb, and I am 18 years old.\n"
          ]
        }
      ]
    },
    {
      "cell_type": "markdown",
      "source": [],
      "metadata": {
        "id": "8QqQyawNCcyt"
      }
    },
    {
      "cell_type": "markdown",
      "source": [
        "3.    Write code to print all the pre-defined keywords in Python using the\n",
        "         keyword library"
      ],
      "metadata": {
        "id": "tdehhkyaCcSb"
      }
    },
    {
      "cell_type": "code",
      "source": [
        "import keyword\n",
        "\n",
        "# printing all keywords at once using \"kwlist()\"\n",
        "print(\"The list of keywords is : \")\n",
        "print(keyword.kwlist)"
      ],
      "metadata": {
        "colab": {
          "base_uri": "https://localhost:8080/"
        },
        "id": "tq2dayvICxJM",
        "outputId": "b5ea5ef2-69bc-44a2-d02e-4e18d593f27f"
      },
      "execution_count": null,
      "outputs": [
        {
          "output_type": "stream",
          "name": "stdout",
          "text": [
            "The list of keywords is : \n",
            "['False', 'None', 'True', 'and', 'as', 'assert', 'async', 'await', 'break', 'class', 'continue', 'def', 'del', 'elif', 'else', 'except', 'finally', 'for', 'from', 'global', 'if', 'import', 'in', 'is', 'lambda', 'nonlocal', 'not', 'or', 'pass', 'raise', 'return', 'try', 'while', 'with', 'yield']\n"
          ]
        }
      ]
    },
    {
      "cell_type": "markdown",
      "source": [],
      "metadata": {
        "id": "UtZAbrBSDic4"
      }
    },
    {
      "cell_type": "markdown",
      "source": [
        "4.   Write a program that checks if a given word is a Python keyword.\n"
      ],
      "metadata": {
        "id": "FeUA63GuDh_S"
      }
    },
    {
      "cell_type": "code",
      "source": [
        "# importing \"keyword\" for keyword operations\n",
        "import keyword\n",
        "# initializing strings for testing while putting them in an array\n",
        "keys = [\"for\", \"geeksforgeeks\", \"elif\", \"elseif\", \"nikhil\",\n",
        "\t\t\"assert\", \"shambhavi\", \"True\", \"False\", \"akshat\",\n",
        "\t\t\"akash\", \"break\", \"ashty\", \"lambda\", \"suman\",\n",
        "\t\t\"try\", \"vaishnavi\"]\n",
        "\n",
        "for i in range(len(keys)):\n",
        "\t# checking which are keywords\n",
        "\tif keyword.iskeyword(keys[i]):\n",
        "\t\tprint(keys[i] + \" is python keyword\")\n",
        "\telse:\n",
        "\t\tprint(keys[i] + \" is not a python keyword\")\n"
      ],
      "metadata": {
        "colab": {
          "base_uri": "https://localhost:8080/"
        },
        "id": "vt9haCFRDhZr",
        "outputId": "764bf493-f0c0-4cdc-b94b-34809d5fc4bb"
      },
      "execution_count": null,
      "outputs": [
        {
          "output_type": "stream",
          "name": "stdout",
          "text": [
            "for is python keyword\n",
            "geeksforgeeks is not a python keyword\n",
            "elif is python keyword\n",
            "elseif is not a python keyword\n",
            "nikhil is not a python keyword\n",
            "assert is python keyword\n",
            "shambhavi is not a python keyword\n",
            "True is python keyword\n",
            "False is python keyword\n",
            "akshat is not a python keyword\n",
            "akash is not a python keyword\n",
            "break is python keyword\n",
            "ashty is not a python keyword\n",
            "lambda is python keyword\n",
            "suman is not a python keyword\n",
            "try is python keyword\n",
            "vaishnavi is not a python keyword\n"
          ]
        }
      ]
    },
    {
      "cell_type": "markdown",
      "source": [],
      "metadata": {
        "id": "KgypxdIME5Cm"
      }
    },
    {
      "cell_type": "markdown",
      "source": [
        "5. Create a list and tuple in Python, and demonstrate how attempting to change an element works differently\n",
        "for each"
      ],
      "metadata": {
        "id": "lkFNAVqlE4z-"
      }
    },
    {
      "cell_type": "code",
      "source": [
        "# Creating a list\n",
        "my_list = [1, 2, 3, 4, 5]\n",
        "print(\"Original List:\", my_list)\n",
        "\n",
        "# Attempting to change an element in the list\n",
        "my_list[2] = 10\n",
        "print(\"Modified List:\", my_list)\n",
        "\n",
        "# Creating a tuple\n",
        "my_tuple = (1, 2, 3, 4, 5)\n",
        "print(\"Original Tuple:\", my_tuple)\n",
        "\n",
        "# Attempting to change an element in the tuple\n",
        "try:\n",
        "    my_tuple[2] = 10\n",
        "except TypeError as e:\n",
        "    print(\"Error:\", e)\n"
      ],
      "metadata": {
        "id": "KgrazW97E4UP",
        "colab": {
          "base_uri": "https://localhost:8080/"
        },
        "outputId": "25986ae4-283a-4377-f9e6-93dea01e9b2c"
      },
      "execution_count": 22,
      "outputs": [
        {
          "output_type": "stream",
          "name": "stdout",
          "text": [
            "Original List: [1, 2, 3, 4, 5]\n",
            "Modified List: [1, 2, 10, 4, 5]\n",
            "Original Tuple: (1, 2, 3, 4, 5)\n",
            "Error: 'tuple' object does not support item assignment\n"
          ]
        }
      ]
    },
    {
      "cell_type": "markdown",
      "source": [],
      "metadata": {
        "id": "TRe7eS0dRte_"
      }
    },
    {
      "cell_type": "markdown",
      "source": [
        "6.   Write a function to demonstrate the behavior of mutable and immutable argument"
      ],
      "metadata": {
        "id": "e8GZABjnRs3q"
      }
    },
    {
      "cell_type": "code",
      "source": [
        "def demonstrate_mutable_immutable(mutable_arg, immutable_arg):\n",
        "    print(\"Before modification:\")\n",
        "    print(f\"Mutable argument (list): {mutable_arg}\")\n",
        "    print(f\"Immutable argument (tuple): {immutable_arg}\")\n",
        "\n",
        "    # Modifying the mutable argument\n",
        "    mutable_arg.append(4)\n",
        "\n",
        "    # Attempting to modify the immutable argument\n",
        "    try:\n",
        "        immutable_arg[0] = 10\n",
        "    except TypeError as e:\n",
        "        print(f\"Error when trying to modify immutable argument: {e}\")\n",
        "\n",
        "    print(\"After modification:\")\n",
        "    print(f\"Mutable argument (list): {mutable_arg}\")\n",
        "    print(f\"Immutable argument (tuple): {immutable_arg}\")\n",
        "\n",
        "# Example usage\n",
        "mutable_list = [1, 2, 3]\n",
        "immutable_tuple = (1, 2, 3)\n",
        "demonstrate_mutable_immutable(mutable_list, immutable_tuple)\n"
      ],
      "metadata": {
        "colab": {
          "base_uri": "https://localhost:8080/"
        },
        "id": "XvuNfeqW7lfz",
        "outputId": "1612e178-bdb7-4d6f-b375-0bd65e6cbc18"
      },
      "execution_count": 1,
      "outputs": [
        {
          "output_type": "stream",
          "name": "stdout",
          "text": [
            "Before modification:\n",
            "Mutable argument (list): [1, 2, 3]\n",
            "Immutable argument (tuple): (1, 2, 3)\n",
            "Error when trying to modify immutable argument: 'tuple' object does not support item assignment\n",
            "After modification:\n",
            "Mutable argument (list): [1, 2, 3, 4]\n",
            "Immutable argument (tuple): (1, 2, 3)\n"
          ]
        }
      ]
    },
    {
      "cell_type": "markdown",
      "source": [],
      "metadata": {
        "id": "eJT7M5qT7v5u"
      }
    },
    {
      "cell_type": "markdown",
      "source": [
        "7.Write a program that performs basic arithmetic operations on two user-input numbers"
      ],
      "metadata": {
        "id": "Bjy1ufW07wl-"
      }
    },
    {
      "cell_type": "code",
      "source": [
        "def basic_arithmetic_operations():\n",
        "    # User input for two numbers\n",
        "    num1 = float(input(\"Enter the first number: \"))\n",
        "    num2 = float(input(\"Enter the second number: \"))\n",
        "\n",
        "    # Performing arithmetic operations\n",
        "    addition = num1 + num2\n",
        "    subtraction = num1 - num2\n",
        "    multiplication = num1 * num2\n",
        "    division = num1 / num2 if num2 != 0 else \"Undefined (division by zero)\"\n",
        "\n",
        "    # Displaying the results\n",
        "    print(f\"Addition: {addition}\")\n",
        "    print(f\"Subtraction: {subtraction}\")\n",
        "    print(f\"Multiplication: {multiplication}\")\n",
        "    print(f\"Division: {division}\")\n",
        "\n",
        "# Call the function\n",
        "basic_arithmetic_operations()"
      ],
      "metadata": {
        "colab": {
          "base_uri": "https://localhost:8080/"
        },
        "id": "a5q1EYx_8Mye",
        "outputId": "a894bd47-2dc8-4c1e-b0ae-99d921e2b19a"
      },
      "execution_count": 3,
      "outputs": [
        {
          "output_type": "stream",
          "name": "stdout",
          "text": [
            "Enter the first number: 1\n",
            "Enter the second number: 2\n",
            "Addition: 3.0\n",
            "Subtraction: -1.0\n",
            "Multiplication: 2.0\n",
            "Division: 0.5\n"
          ]
        }
      ]
    },
    {
      "cell_type": "markdown",
      "source": [],
      "metadata": {
        "id": "kFFMPQ5a8ZG2"
      }
    },
    {
      "cell_type": "markdown",
      "source": [
        "8.Write a program to demonstrate the use of logical operators"
      ],
      "metadata": {
        "id": "dUICk9po8Yl2"
      }
    },
    {
      "cell_type": "code",
      "source": [
        "# Logical Operators in Python\n",
        "\n",
        "# Define two boolean variables\n",
        "a = True\n",
        "b = False\n",
        "\n",
        "# Using 'and' operator\n",
        "and_result = a and b\n",
        "print(f\"a and b: {and_result}\")\n",
        "\n",
        "# Using 'or' operator\n",
        "or_result = a or b\n",
        "print(f\"a or b: {or_result}\")\n",
        "\n",
        "# Using 'not' operator\n",
        "not_result_a = not a\n",
        "not_result_b = not b\n",
        "print(f\"not a: {not_result_a}\")\n",
        "print(f\"not b: {not_result_b}\")\n",
        "\n",
        "# Combining logical operators\n",
        "combined_result = (a and b) or (not a)\n",
        "print(f\"(a and b) or (not a): {combined_result}\")"
      ],
      "metadata": {
        "colab": {
          "base_uri": "https://localhost:8080/"
        },
        "id": "7B-mf5508nkg",
        "outputId": "a1f2fdbb-bbc1-4bb6-a9b2-2b9ae7070697"
      },
      "execution_count": 4,
      "outputs": [
        {
          "output_type": "stream",
          "name": "stdout",
          "text": [
            "a and b: False\n",
            "a or b: True\n",
            "not a: False\n",
            "not b: True\n",
            "(a and b) or (not a): False\n"
          ]
        }
      ]
    },
    {
      "cell_type": "markdown",
      "source": [],
      "metadata": {
        "id": "PiSmaB8W82VP"
      }
    },
    {
      "cell_type": "markdown",
      "source": [
        "9. Write a Python program to convert user input from string to integer, float, and boolean types"
      ],
      "metadata": {
        "id": "yMhl7uQe82B1"
      }
    },
    {
      "cell_type": "code",
      "source": [
        "user_input = input(\"Enter a value: \")\n",
        "\n",
        "# Convert to integer\n",
        "try:\n",
        "    int_value = int(user_input)\n",
        "    print(f\"Integer: {int_value}\")\n",
        "except ValueError:\n",
        "    print(\"Cannot convert to integer.\")\n",
        "\n",
        "# Convert to float\n",
        "try:\n",
        "    float_value = float(user_input)\n",
        "    print(f\"Float: {float_value}\")\n",
        "except ValueError:\n",
        "    print(\"Cannot convert to float.\")\n",
        "\n",
        "# Convert to boolean\n",
        "bool_value = user_input.lower() in ['true', '1', 'yes']\n",
        "print(f\"Boolean: {bool_value}\")\n"
      ],
      "metadata": {
        "colab": {
          "base_uri": "https://localhost:8080/"
        },
        "id": "IfWV_nSp-Unb",
        "outputId": "7ad15ee7-e88c-442a-d529-a7296cc7c460"
      },
      "execution_count": 7,
      "outputs": [
        {
          "output_type": "stream",
          "name": "stdout",
          "text": [
            "Enter a value: 5\n",
            "Integer: 5\n",
            "Float: 5.0\n",
            "Boolean: False\n"
          ]
        }
      ]
    },
    {
      "cell_type": "markdown",
      "source": [],
      "metadata": {
        "id": "Dk1E2fVH-fRi"
      }
    },
    {
      "cell_type": "markdown",
      "source": [
        "10.Write code to demonstrate type casting with list elements."
      ],
      "metadata": {
        "id": "dX0XEdGW-d_C"
      }
    },
    {
      "cell_type": "code",
      "source": [
        "# Type casting demonstration with list elements\n",
        "# Importing necessary library\n",
        "from typing import List\n",
        "\n",
        "# Original list with mixed types\n",
        "mixed_list: List[object] = [1, '2', 3.0, '4.5', True]\n",
        "\n",
        "# Type casting elements\n",
        "int_list = [int(float(x)) for x in mixed_list if isinstance(x, (int, float, str))]\n",
        "str_list = [str(x) for x in mixed_list]\n",
        "float_list = [float(x) for x in mixed_list if isinstance(x, (int, str))]\n",
        "\n",
        "# Displaying the results\n",
        "print(\"Original List:\", mixed_list)\n",
        "print(\"Integer List:\", int_list)\n",
        "print(\"String List:\", str_list)\n",
        "print(\"Float List:\", float_list)\n"
      ],
      "metadata": {
        "colab": {
          "base_uri": "https://localhost:8080/"
        },
        "id": "Sf7C3l6B-i0D",
        "outputId": "ed20154c-3c56-4364-8b0d-098369592da7"
      },
      "execution_count": 8,
      "outputs": [
        {
          "output_type": "stream",
          "name": "stdout",
          "text": [
            "Original List: [1, '2', 3.0, '4.5', True]\n",
            "Integer List: [1, 2, 3, 4, 1]\n",
            "String List: ['1', '2', '3.0', '4.5', 'True']\n",
            "Float List: [1.0, 2.0, 4.5, 1.0]\n"
          ]
        }
      ]
    },
    {
      "cell_type": "markdown",
      "source": [],
      "metadata": {
        "id": "Rl1Zk-ci_DcE"
      }
    },
    {
      "cell_type": "markdown",
      "source": [
        "11. Write a program that checks if a number is positive, negative, or zero."
      ],
      "metadata": {
        "id": "YUFytOa1_DD8"
      }
    },
    {
      "cell_type": "code",
      "source": [
        "def check_number(num):\n",
        "    if num > 0:\n",
        "        return \"Positive\"\n",
        "    elif num < 0:\n",
        "        return \"Negative\"\n",
        "    else:\n",
        "        return \"Zero\"\n",
        "\n",
        "number = float(input(\"Enter a number: \"))\n",
        "result = check_number(number)\n",
        "print(result)\n"
      ],
      "metadata": {
        "colab": {
          "base_uri": "https://localhost:8080/"
        },
        "id": "8wfwH6yM_roC",
        "outputId": "acfdefe0-2943-44a3-bf1f-96c3ceedd92c"
      },
      "execution_count": 10,
      "outputs": [
        {
          "output_type": "stream",
          "name": "stdout",
          "text": [
            "Enter a number: -5\n",
            "Negative\n"
          ]
        }
      ]
    },
    {
      "cell_type": "markdown",
      "source": [],
      "metadata": {
        "id": "fdJPKMLS_7Vg"
      }
    },
    {
      "cell_type": "markdown",
      "source": [
        "12. Write a for loop to print numbers from 1 to 10."
      ],
      "metadata": {
        "id": "7F2-U1q__6_A"
      }
    },
    {
      "cell_type": "code",
      "source": [
        "for i in range(1, 11):\n",
        "    print(i)\n"
      ],
      "metadata": {
        "colab": {
          "base_uri": "https://localhost:8080/"
        },
        "id": "YxvRJnvoAMEw",
        "outputId": "f44955d4-d86f-41e7-a80a-8cf6f88cf2c0"
      },
      "execution_count": 11,
      "outputs": [
        {
          "output_type": "stream",
          "name": "stdout",
          "text": [
            "1\n",
            "2\n",
            "3\n",
            "4\n",
            "5\n",
            "6\n",
            "7\n",
            "8\n",
            "9\n",
            "10\n"
          ]
        }
      ]
    },
    {
      "cell_type": "markdown",
      "source": [],
      "metadata": {
        "id": "NiMYM4sZAQZR"
      }
    },
    {
      "cell_type": "markdown",
      "source": [
        "13.Write a Python program to find the sum of all even numbers between 1 and 50."
      ],
      "metadata": {
        "id": "-cANk8AsAQFw"
      }
    },
    {
      "cell_type": "code",
      "source": [
        "# Initialize the sum variable\n",
        "sum_of_evens = 0\n",
        "\n",
        "# Loop through numbers from 1 to 50\n",
        "for number in range(1, 50):\n",
        "    # Check if the number is even\n",
        "    if number % 2 == 0:\n",
        "        sum_of_evens += number  # Add it to the sum\n",
        "\n",
        "# Display the result\n",
        "print(\"The sum of even numbers from 1 to 50 is:\", sum_of_evens)"
      ],
      "metadata": {
        "colab": {
          "base_uri": "https://localhost:8080/"
        },
        "id": "xqrYzt_NCQ2m",
        "outputId": "36d4d610-c4dc-433f-80cf-bfcf868718fa"
      },
      "execution_count": 19,
      "outputs": [
        {
          "output_type": "stream",
          "name": "stdout",
          "text": [
            "The sum of even numbers from 1 to 50 is: 600\n"
          ]
        }
      ]
    },
    {
      "cell_type": "markdown",
      "source": [],
      "metadata": {
        "id": "abzwt6myFya2"
      }
    },
    {
      "cell_type": "markdown",
      "source": [
        "14.. Write a program to reverse a string using a while loop."
      ],
      "metadata": {
        "id": "XR3lMjTCEti7"
      }
    },
    {
      "cell_type": "code",
      "source": [
        "def reverse_string(input_string):\n",
        "    reversed_string = \"\"\n",
        "    index = len(input_string) - 1\n",
        "\n",
        "    while index >= 0:\n",
        "        reversed_string += input_string[index]\n",
        "        index -= 1\n",
        "\n",
        "    return reversed_string\n",
        "\n",
        "# Example usage\n",
        "input_str = \"Hello, World!\"\n",
        "result = reverse_string(input_str)\n",
        "print(result)"
      ],
      "metadata": {
        "colab": {
          "base_uri": "https://localhost:8080/"
        },
        "id": "wdDrgaT2Fu1A",
        "outputId": "28d5c64e-9691-4c70-f982-30084b86d71d"
      },
      "execution_count": 20,
      "outputs": [
        {
          "output_type": "stream",
          "name": "stdout",
          "text": [
            "!dlroW ,olleH\n"
          ]
        }
      ]
    },
    {
      "cell_type": "markdown",
      "source": [],
      "metadata": {
        "id": "7DoFe3ewGTTf"
      }
    },
    {
      "cell_type": "markdown",
      "source": [
        "15. Write a Python program to calculate the factorial of a number provided by the user using a while loop"
      ],
      "metadata": {
        "id": "X_PVKwOGGS7g"
      }
    },
    {
      "cell_type": "code",
      "source": [
        "# Program to calculate the factorial of a number using a while loop\n",
        "\n",
        "number = int(input(\"Enter a number: \"))\n",
        "factorial = 1\n",
        "counter = 1\n",
        "\n",
        "while counter <= number:\n",
        "    factorial *= counter\n",
        "    counter += 1\n",
        "\n",
        "print(f\"The factorial of {number} is {factorial}\")"
      ],
      "metadata": {
        "colab": {
          "base_uri": "https://localhost:8080/"
        },
        "id": "Oxu24YEfGoyG",
        "outputId": "bb706e1a-cc35-4648-d605-850af7c94bf5"
      },
      "execution_count": 21,
      "outputs": [
        {
          "output_type": "stream",
          "name": "stdout",
          "text": [
            "Enter a number: 4\n",
            "The factorial of 4 is 24\n"
          ]
        }
      ]
    },
    {
      "cell_type": "markdown",
      "source": [],
      "metadata": {
        "id": "RnSwU175EtJy"
      }
    }
  ]
}